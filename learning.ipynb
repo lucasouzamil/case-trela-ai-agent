{
 "cells": [
  {
   "cell_type": "markdown",
   "id": "48fad0e9",
   "metadata": {},
   "source": [
    "## Introdução"
   ]
  },
  {
   "cell_type": "code",
   "execution_count": 1,
   "id": "0f27485d",
   "metadata": {},
   "outputs": [],
   "source": [
    "from dotenv import load_dotenv\n",
    "import os"
   ]
  },
  {
   "cell_type": "code",
   "execution_count": null,
   "id": "b295db77",
   "metadata": {},
   "outputs": [],
   "source": [
    "load_dotenv()\n",
    "\n",
    "api_key = os.getenv(\"OPENAI_API_KEY\")\n",
    "if not api_key:\n",
    "  raise ValueError(\"A chave da API da OpenAI não foi encontrada. Defina a variável de ambiente OPENAI_API_KEY em um arquivo chamado `.env` na raiz do projeto.\")"
   ]
  },
  {
   "cell_type": "code",
   "execution_count": 2,
   "id": "b832b67c",
   "metadata": {},
   "outputs": [],
   "source": [
    "from agents import Agent, Runner"
   ]
  },
  {
   "cell_type": "code",
   "execution_count": null,
   "id": "acff73dc",
   "metadata": {},
   "outputs": [],
   "source": [
    "agent = Agent(\n",
    "  name=\"Agente basico\",\n",
    "  instructions=\"Voce é um assistente útil. Responda apenas em CAPSLOCK.\",\n",
    "  model=\"gpt-4o\"\n",
    ")"
   ]
  },
  {
   "cell_type": "code",
   "execution_count": 6,
   "id": "3361483e",
   "metadata": {},
   "outputs": [],
   "source": [
    "result = await Runner.run(agent, \"Eai, como você esta?\")"
   ]
  },
  {
   "cell_type": "code",
   "execution_count": 14,
   "id": "fb558083",
   "metadata": {},
   "outputs": [
    {
     "data": {
      "text/plain": [
       "'ESTOU FUNCIONANDO PERFEITAMENTE! E VOCÊ, COMO ESTÁ?'"
      ]
     },
     "execution_count": 14,
     "metadata": {},
     "output_type": "execute_result"
    }
   ],
   "source": [
    "result.final_output"
   ]
  },
  {
   "cell_type": "markdown",
   "id": "7c30f5b0",
   "metadata": {},
   "source": [
    "## Output personalizado"
   ]
  },
  {
   "cell_type": "code",
   "execution_count": 3,
   "id": "40382392",
   "metadata": {},
   "outputs": [],
   "source": [
    "from pydantic import BaseModel"
   ]
  },
  {
   "cell_type": "code",
   "execution_count": null,
   "id": "92b8d1f7",
   "metadata": {},
   "outputs": [],
   "source": [
    "class Receita(BaseModel):\n",
    "  titulo: str\n",
    "  ingredientes: list[str]\n",
    "  tempo_preparo: int\n",
    "  qntd_refeicoes: int\n",
    "\n",
    "agente_cozinheiro = Agent(\n",
    "  name='Agente cozinheiro',\n",
    "  instructions=\"\"\"\n",
    "    Voce é um agente que cria receitas. Você receberá o nome de um prato e deverá dar uma resposta\n",
    "    detalhada a respeito dessa receita. O tempo de preparo deve ser em minutos. \n",
    "  \"\"\",\n",
    "  output_type=Receita\n",
    ")"
   ]
  },
  {
   "cell_type": "code",
   "execution_count": 27,
   "id": "313cf4be",
   "metadata": {},
   "outputs": [
    {
     "name": "stdout",
     "output_type": "stream",
     "text": [
      "titulo='Strogonoff de Frango' ingredientes=['500g de peito de frango cortado em cubos', '1 cebola média picada', '2 dentes de alho picados', '2 colheres de sopa de óleo ou azeite', '200g de creme de leite', '2 colheres de sopa de ketchup', '1 colher de sopa de mostarda', 'Sal a gosto', 'Pimenta-do-reino a gosto', '100g de champignon fatiado (opcional)', '1 colher de sopa de molho inglês', 'Salsinha picada para decorar'] tempo_preparo=40 qntd_refeicoes=4\n"
     ]
    }
   ],
   "source": [
    "response = await Runner.run(agente_cozinheiro, \"Strogonoff\")\n",
    "print(response.final_output)"
   ]
  },
  {
   "cell_type": "markdown",
   "id": "3eecc4fd",
   "metadata": {},
   "source": [
    "## Tool Calling"
   ]
  },
  {
   "cell_type": "code",
   "execution_count": 4,
   "id": "f653bd6d",
   "metadata": {},
   "outputs": [],
   "source": [
    "from agents import function_tool"
   ]
  },
  {
   "cell_type": "code",
   "execution_count": null,
   "id": "c3c626aa",
   "metadata": {},
   "outputs": [],
   "source": [
    "@function_tool\n",
    "def pega_o_tempo(cidade: str) -> str:\n",
    "  print(f\"Tempo na cidade {cidade} é 30°C.\")\n",
    "  return \"30°C\"\n",
    "\n",
    "agent = Agent(\n",
    "  name = \"Agente do clima\",\n",
    "  instructions = \"Você é um agente que sabem muito sobre climas. Dado uma cidade você deve retorna o clima daquela cidade.\",\n",
    "  model=\"gpt-4o\",\n",
    "  tools=[pega_o_tempo]\n",
    ")"
   ]
  },
  {
   "cell_type": "code",
   "execution_count": null,
   "id": "8fbb8ea8",
   "metadata": {},
   "outputs": [
    {
     "name": "stdout",
     "output_type": "stream",
     "text": [
      "Tempo na cidade São Paulo é 30°C.\n",
      "Em São Paulo, a temperatura atual é de 30°C.\n"
     ]
    }
   ],
   "source": [
    "resposta = await Runner.run(agent, \"qual o clima na cidade de São Paulo?\")\n",
    "print(resposta.final_output)"
   ]
  },
  {
   "cell_type": "markdown",
   "id": "9c2f5dae",
   "metadata": {},
   "source": [
    "### Handoff"
   ]
  },
  {
   "cell_type": "code",
   "execution_count": null,
   "id": "9cb2a29d",
   "metadata": {},
   "outputs": [],
   "source": [
    "gerador_tutorial = Agent(\n",
    "  name=\"Gerador de tutorial\",\n",
    "  handoff_description=\"Usado para criar um tutorial baseado em um esboço\", #Util para os agentes que chamam esse saber oque ele faz\n",
    "  instructions=(\n",
    "    \"Dado um tópico de programação e um esboço, sua tarefa é gerar trechos de código para cada seção do esboço.\"\n",
    "    \"Formate o tutorial em Markdown usando uma mistura de texto para explicação e trechos de código como exemplos.\"\n",
    "    \"Onde fizer sentido, inclua comentários nos trechos de código para explicar melhor o código.\"\n",
    "  )\n",
    ")\n",
    "\n",
    "gerador_esboco = Agent(\n",
    "  name=\"Gerador de esboço\",\n",
    "  instructions=(\n",
    "    \"Dado um tópico específico de programação, sua tarefa é ajudar a criar um tutorial. Você fará isso elaborando um esboço.\"\n",
    "    \"Depois de criar o esboço, entregue-o ao agente gerador de tutorial.\"\n",
    "  ),\n",
    "  handoffs=[gerador_tutorial]\n",
    ")"
   ]
  },
  {
   "cell_type": "code",
   "execution_count": null,
   "id": "1726d886",
   "metadata": {},
   "outputs": [],
   "source": [
    "resposta = await Runner.run(gerador_esboco, 'variaveis de python')\n",
    "#print(resposta.final_output)"
   ]
  },
  {
   "cell_type": "code",
   "execution_count": 11,
   "id": "0f95e9e9",
   "metadata": {},
   "outputs": [],
   "source": [
    "from agents import handoff, RunContextWrapper"
   ]
  },
  {
   "cell_type": "code",
   "execution_count": 12,
   "id": "6d53141a",
   "metadata": {},
   "outputs": [],
   "source": [
    "gerador_tutorial = Agent(\n",
    "  name=\"Gerador de tutorial\",\n",
    "  handoff_description=\"Usado para criar um tutorial baseado em um esboço\", #Util para os agentes que chamam esse saber oque ele faz\n",
    "  instructions=(\n",
    "    \"Dado um tópico de programação e um esboço, sua tarefa é gerar trechos de código para cada seção do esboço.\"\n",
    "    \"Formate o tutorial em Markdown usando uma mistura de texto para explicação e trechos de código como exemplos.\"\n",
    "    \"Onde fizer sentido, inclua comentários nos trechos de código para explicar melhor o código.\"\n",
    "  )\n",
    ")\n",
    "\n",
    "def handoff_handler(ctx: RunContextWrapper[None]):\n",
    "  print(\"handoff acontecendo\")\n",
    "  return\n",
    "\n",
    "gerador_esboco = Agent(\n",
    "  name=\"Gerador de esboço\",\n",
    "  instructions=(\n",
    "    \"Dado um tópico específico de programação, sua tarefa é ajudar a criar um tutorial. Você fará isso elaborando um esboço.\"\n",
    "    \"Depois de criar o esboço, entregue-o ao agente gerador de tutorial.\"\n",
    "  ),\n",
    "  handoffs=[handoff(gerador_tutorial, on_handoff=handoff_handler)]\n",
    ")"
   ]
  },
  {
   "cell_type": "code",
   "execution_count": 13,
   "id": "c63d8c8e",
   "metadata": {},
   "outputs": [
    {
     "name": "stdout",
     "output_type": "stream",
     "text": [
      "handoff acontecendo\n"
     ]
    }
   ],
   "source": [
    "resposta = await Runner.run(gerador_esboco, 'variaveis de python')"
   ]
  },
  {
   "cell_type": "markdown",
   "id": "45a23c7c",
   "metadata": {},
   "source": [
    "## Streaming"
   ]
  },
  {
   "cell_type": "code",
   "execution_count": 14,
   "id": "b20f0aca",
   "metadata": {},
   "outputs": [
    {
     "name": "stdout",
     "output_type": "stream",
     "text": [
      "Por que a melancia foi à festa sozinha?\n",
      "\n",
      "Porque ela já estava cheia de \"sem semente\"! 🍉😂"
     ]
    }
   ],
   "source": [
    "from openai.types.responses import ResponseTextDeltaEvent\n",
    "\n",
    "agent = Agent(\n",
    "  name=\"Agente de piadas\",\n",
    "  instructions=\"Você é um agente ajudante que cria piadas quando a respeito de um tópico fornecido.\"\n",
    ")\n",
    "\n",
    "result = Runner.run_streamed(agent, input=\"Melancia\")\n",
    "\n",
    "async for event in result.stream_events():\n",
    "  if event.type == \"raw_response_event\" and isinstance(event.data, ResponseTextDeltaEvent):\n",
    "    print(event.data.delta, end=\"\", flush=True)"
   ]
  },
  {
   "cell_type": "code",
   "execution_count": null,
   "id": "897a01ca",
   "metadata": {},
   "outputs": [],
   "source": [
    "print(\"== Run inicia\")\n",
    "async for event in result.stream_events():\n",
    "  #ignora os deltas (partes da resposta), quero ver apenas o stack trace do agente\n",
    "  if event.type == \"raw_response_event\":\n",
    "    continue\n",
    "  elif event.type == \"agent_updated_stream_event\":\n",
    "    print(f\"Agente atualizado: {event.new_agent.name}\")\n",
    "  elif event.type == \"run_item_stream_event\":\n",
    "    if event.item.type == \"tool_call_item\":\n",
    "      print(f\"-- Ferramenta chamada\")\n",
    "    elif  event.item.type == \"tool_call_output_item\":\n",
    "      print(f\"-- Saída da ferramenta: {event.item.output}\")\n",
    "    elif  event.item.type == \"message_output_item\":\n",
    "      print(f\"-- Mensagem de saída:\\n \n",
    "      {ItemHelpers.text_message_output(event.item)}\")\n",
    "    else:\n",
    "      pass\n",
    "print(\"== Run acabou\")"
   ]
  },
  {
   "cell_type": "markdown",
   "id": "4c24fcf0",
   "metadata": {},
   "source": [
    "## GuardRails"
   ]
  },
  {
   "cell_type": "markdown",
   "id": "196fca59",
   "metadata": {},
   "source": []
  }
 ],
 "metadata": {
  "kernelspec": {
   "display_name": ".venv",
   "language": "python",
   "name": "python3"
  },
  "language_info": {
   "codemirror_mode": {
    "name": "ipython",
    "version": 3
   },
   "file_extension": ".py",
   "mimetype": "text/x-python",
   "name": "python",
   "nbconvert_exporter": "python",
   "pygments_lexer": "ipython3",
   "version": "3.12.9"
  }
 },
 "nbformat": 4,
 "nbformat_minor": 5
}
